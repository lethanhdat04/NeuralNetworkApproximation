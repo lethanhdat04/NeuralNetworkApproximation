{
 "cells": [
  {
   "cell_type": "markdown",
   "metadata": {},
   "source": [
    "## Environment Setup"
   ]
  },
  {
   "cell_type": "markdown",
   "metadata": {},
   "source": [
    "### Change Directory\n",
    "This cell changes the working directory to the parent directory, preparing for imports from the local file structure."
   ]
  },
  {
   "cell_type": "code",
   "execution_count": null,
   "metadata": {
    "vscode": {
     "languageId": "shellscript"
    }
   },
   "outputs": [],
   "source": [
    "cd ../.."
   ]
  },
  {
   "cell_type": "markdown",
   "metadata": {},
   "source": [
    "### Imports\n",
    "The necessary libraries are imported."
   ]
  },
  {
   "cell_type": "code",
   "execution_count": null,
   "metadata": {},
   "outputs": [],
   "source": [
    "import numpy as np\n",
    "import pandas as pd\n",
    "import torch\n",
    "import matplotlib.pyplot as plt\n",
    "from torch.utils.data import DataLoader, TensorDataset\n",
    "\n",
    "from typing import Callable\n",
    "\n",
    "from data.generators import *\n",
    "from model.simple_model import ReLU_Network\n",
    "from model.piecewise_linear_fn import ReluSegmentNetwork, FixedWidthReluNetwork\n",
    "\n",
    "from utils.trainer import train_model\n",
    "from utils.evaluator import evaluate_model\n",
    "from utils.visualizer import *\n",
    "from utils.maths import *\n",
    "from utils.algo import optimal_approx"
   ]
  }
 ],
 "metadata": {
  "language_info": {
   "name": "python"
  }
 },
 "nbformat": 4,
 "nbformat_minor": 2
}
