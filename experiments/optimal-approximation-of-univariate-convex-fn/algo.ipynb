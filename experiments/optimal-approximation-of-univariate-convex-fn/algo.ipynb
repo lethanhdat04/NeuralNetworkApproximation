{
 "cells": [
  {
   "cell_type": "markdown",
   "metadata": {},
   "source": [
    "### Change Directory\n",
    "This cell changes the working directory to the parent directory, preparing for imports from the local file structure."
   ]
  },
  {
   "cell_type": "code",
   "execution_count": 1,
   "metadata": {
    "ExecuteTime": {
     "end_time": "2025-02-18T13:41:17.995157Z",
     "start_time": "2025-02-18T13:41:17.981300Z"
    },
    "vscode": {
     "languageId": "shellscript"
    }
   },
   "outputs": [
    {
     "name": "stdout",
     "output_type": "stream",
     "text": [
      "d:\\PyCharmProject\\nna_24-25_pham\n"
     ]
    }
   ],
   "source": [
    "cd ../.."
   ]
  },
  {
   "cell_type": "markdown",
   "metadata": {},
   "source": [
    "### Imports\n",
    "The necessary libraries are imported."
   ]
  },
  {
   "cell_type": "code",
   "execution_count": 2,
   "metadata": {
    "ExecuteTime": {
     "end_time": "2025-02-18T13:41:20.071504Z",
     "start_time": "2025-02-18T13:41:18.077900Z"
    }
   },
   "outputs": [],
   "source": [
    "from utils.algo import optimal_approx\n",
    "from utils.maths import *\n",
    "import numpy as np\n",
    "import pandas as pd"
   ]
  },
  {
   "cell_type": "markdown",
   "metadata": {},
   "source": [
    "### Function Definitions\n",
    "The next few cells will define the functions used in the experiment"
   ]
  },
  {
   "cell_type": "code",
   "execution_count": 3,
   "metadata": {
    "ExecuteTime": {
     "end_time": "2025-02-18T13:41:20.893745Z",
     "start_time": "2025-02-18T13:41:20.884382Z"
    }
   },
   "outputs": [],
   "source": [
    "def square(x):\n",
    "    return x**2\n",
    "\n",
    "def triplet(x):\n",
    "    return x**3\n",
    "\n",
    "def exp(x):\n",
    "    return np.exp(x)"
   ]
  },
  {
   "cell_type": "code",
   "execution_count": 4,
   "metadata": {
    "ExecuteTime": {
     "end_time": "2025-02-18T13:41:20.917393Z",
     "start_time": "2025-02-18T13:41:20.910458Z"
    }
   },
   "outputs": [],
   "source": [
    "n = [2, 3, 5, 10]\n",
    "step = 2e-5"
   ]
  },
  {
   "cell_type": "markdown",
   "metadata": {},
   "source": [
    "Below is the function to calculate the mean error."
   ]
  },
  {
   "cell_type": "code",
   "execution_count": 5,
   "metadata": {
    "ExecuteTime": {
     "end_time": "2025-02-18T13:41:20.949123Z",
     "start_time": "2025-02-18T13:41:20.941123Z"
    }
   },
   "outputs": [],
   "source": [
    "def mean_err(errs):\n",
    "    return sum(errs) / len(errs)"
   ]
  },
  {
   "cell_type": "markdown",
   "metadata": {},
   "source": [
    "Also, the boundings of the error are defined along with the maximal gap between errors."
   ]
  },
  {
   "cell_type": "code",
   "execution_count": 6,
   "metadata": {
    "ExecuteTime": {
     "end_time": "2025-02-18T13:41:21.012523Z",
     "start_time": "2025-02-18T13:41:21.005130Z"
    }
   },
   "outputs": [],
   "source": [
    "def bounds(n, f, a, b):\n",
    "    pass"
   ]
  },
  {
   "cell_type": "markdown",
   "metadata": {},
   "source": [
    "### Start approximating variables\n",
    "This step implements the algorithm to approximate the variables in the system of equations, as described in the paper."
   ]
  },
  {
   "cell_type": "code",
   "execution_count": 7,
   "metadata": {
    "ExecuteTime": {
     "end_time": "2025-02-18T13:41:21.052659Z",
     "start_time": "2025-02-18T13:41:21.047132Z"
    }
   },
   "outputs": [],
   "source": [
    "errs = []"
   ]
  },
  {
   "cell_type": "code",
   "execution_count": 8,
   "metadata": {
    "ExecuteTime": {
     "end_time": "2025-02-18T13:42:49.641213Z",
     "start_time": "2025-02-18T13:41:21.086417Z"
    }
   },
   "outputs": [
    {
     "name": "stdout",
     "output_type": "stream",
     "text": [
      "n = 2\n",
      "f(x) = exp(x)\n"
     ]
    },
    {
     "data": {
      "application/vnd.jupyter.widget-view+json": {
       "model_id": "6de6f40e39014efdbd386f80e5a7911e",
       "version_major": 2,
       "version_minor": 0
      },
      "text/plain": [
       "Optimal Approximation:   0%|          | 0/1 [00:00<?, ?it/s]"
      ]
     },
     "metadata": {},
     "output_type": "display_data"
    },
    {
     "data": {
      "application/vnd.jupyter.widget-view+json": {
       "model_id": "5de4de8484d242baaee6999bba924efa",
       "version_major": 2,
       "version_minor": 0
      },
      "text/plain": [
       "Optimal Approximation:   0%|          | 0/1 [00:00<?, ?it/s]"
      ]
     },
     "metadata": {},
     "output_type": "display_data"
    },
    {
     "name": "stdout",
     "output_type": "stream",
     "text": [
      "--------------------------------------------------\n",
      "n = 3\n",
      "f(x) = exp(x)\n"
     ]
    },
    {
     "data": {
      "application/vnd.jupyter.widget-view+json": {
       "model_id": "e750cd7ac6184b1bb15459bba5429d12",
       "version_major": 2,
       "version_minor": 0
      },
      "text/plain": [
       "Optimal Approximation:   0%|          | 0/2 [00:00<?, ?it/s]"
      ]
     },
     "metadata": {},
     "output_type": "display_data"
    },
    {
     "data": {
      "application/vnd.jupyter.widget-view+json": {
       "model_id": "7493e8cc378b459d8c6c4ad5269703c8",
       "version_major": 2,
       "version_minor": 0
      },
      "text/plain": [
       "Optimal Approximation:   0%|          | 0/2 [00:00<?, ?it/s]"
      ]
     },
     "metadata": {},
     "output_type": "display_data"
    },
    {
     "data": {
      "application/vnd.jupyter.widget-view+json": {
       "model_id": "f413c3dcf9ae40b699dd338aaaf47fa5",
       "version_major": 2,
       "version_minor": 0
      },
      "text/plain": [
       "Optimal Approximation:   0%|          | 0/2 [00:00<?, ?it/s]"
      ]
     },
     "metadata": {},
     "output_type": "display_data"
    },
    {
     "data": {
      "application/vnd.jupyter.widget-view+json": {
       "model_id": "2812955878454873b6106d08c10d0aa3",
       "version_major": 2,
       "version_minor": 0
      },
      "text/plain": [
       "Optimal Approximation:   0%|          | 0/2 [00:00<?, ?it/s]"
      ]
     },
     "metadata": {},
     "output_type": "display_data"
    },
    {
     "data": {
      "application/vnd.jupyter.widget-view+json": {
       "model_id": "7f236601450d44d282712869ee6c6d30",
       "version_major": 2,
       "version_minor": 0
      },
      "text/plain": [
       "Optimal Approximation:   0%|          | 0/2 [00:00<?, ?it/s]"
      ]
     },
     "metadata": {},
     "output_type": "display_data"
    },
    {
     "data": {
      "application/vnd.jupyter.widget-view+json": {
       "model_id": "2dd5b923f5d24b5a8997047c22db55e7",
       "version_major": 2,
       "version_minor": 0
      },
      "text/plain": [
       "Optimal Approximation:   0%|          | 0/2 [00:00<?, ?it/s]"
      ]
     },
     "metadata": {},
     "output_type": "display_data"
    },
    {
     "data": {
      "application/vnd.jupyter.widget-view+json": {
       "model_id": "7ecb8c027b834b94802f1313244c72fc",
       "version_major": 2,
       "version_minor": 0
      },
      "text/plain": [
       "Optimal Approximation:   0%|          | 0/2 [00:00<?, ?it/s]"
      ]
     },
     "metadata": {},
     "output_type": "display_data"
    },
    {
     "data": {
      "application/vnd.jupyter.widget-view+json": {
       "model_id": "783f2e17d26b4892af2a054feaccee57",
       "version_major": 2,
       "version_minor": 0
      },
      "text/plain": [
       "Optimal Approximation:   0%|          | 0/2 [00:00<?, ?it/s]"
      ]
     },
     "metadata": {},
     "output_type": "display_data"
    },
    {
     "data": {
      "application/vnd.jupyter.widget-view+json": {
       "model_id": "9bf09fffd4534912bcf15330452a6011",
       "version_major": 2,
       "version_minor": 0
      },
      "text/plain": [
       "Optimal Approximation:   0%|          | 0/2 [00:00<?, ?it/s]"
      ]
     },
     "metadata": {},
     "output_type": "display_data"
    },
    {
     "data": {
      "application/vnd.jupyter.widget-view+json": {
       "model_id": "25b4534cc21d44f3a00cecc5c3f96192",
       "version_major": 2,
       "version_minor": 0
      },
      "text/plain": [
       "Optimal Approximation:   0%|          | 0/2 [00:00<?, ?it/s]"
      ]
     },
     "metadata": {},
     "output_type": "display_data"
    },
    {
     "data": {
      "application/vnd.jupyter.widget-view+json": {
       "model_id": "0ef3968ef75d413a996ea9e6ba1af677",
       "version_major": 2,
       "version_minor": 0
      },
      "text/plain": [
       "Optimal Approximation:   0%|          | 0/2 [00:00<?, ?it/s]"
      ]
     },
     "metadata": {},
     "output_type": "display_data"
    },
    {
     "data": {
      "application/vnd.jupyter.widget-view+json": {
       "model_id": "dcb5dc54ac03490c951d7dc81dcd0f2d",
       "version_major": 2,
       "version_minor": 0
      },
      "text/plain": [
       "Optimal Approximation:   0%|          | 0/2 [00:00<?, ?it/s]"
      ]
     },
     "metadata": {},
     "output_type": "display_data"
    },
    {
     "data": {
      "application/vnd.jupyter.widget-view+json": {
       "model_id": "375cd150dc284d638edc68e0a324db16",
       "version_major": 2,
       "version_minor": 0
      },
      "text/plain": [
       "Optimal Approximation:   0%|          | 0/2 [00:00<?, ?it/s]"
      ]
     },
     "metadata": {},
     "output_type": "display_data"
    },
    {
     "data": {
      "application/vnd.jupyter.widget-view+json": {
       "model_id": "ee05a114719146a88414fb3460f1a459",
       "version_major": 2,
       "version_minor": 0
      },
      "text/plain": [
       "Optimal Approximation:   0%|          | 0/2 [00:00<?, ?it/s]"
      ]
     },
     "metadata": {},
     "output_type": "display_data"
    },
    {
     "data": {
      "application/vnd.jupyter.widget-view+json": {
       "model_id": "c8fbf4b5c8fb4d87871b355eec6cfc07",
       "version_major": 2,
       "version_minor": 0
      },
      "text/plain": [
       "Optimal Approximation:   0%|          | 0/2 [00:00<?, ?it/s]"
      ]
     },
     "metadata": {},
     "output_type": "display_data"
    },
    {
     "name": "stdout",
     "output_type": "stream",
     "text": [
      "--------------------------------------------------\n",
      "n = 5\n",
      "f(x) = exp(x)\n"
     ]
    },
    {
     "data": {
      "application/vnd.jupyter.widget-view+json": {
       "model_id": "d2a52eb657b74a1b868f4d42a1c446b4",
       "version_major": 2,
       "version_minor": 0
      },
      "text/plain": [
       "Optimal Approximation:   0%|          | 0/4 [00:00<?, ?it/s]"
      ]
     },
     "metadata": {},
     "output_type": "display_data"
    },
    {
     "data": {
      "application/vnd.jupyter.widget-view+json": {
       "model_id": "8774414932344ffd847bb77aba771502",
       "version_major": 2,
       "version_minor": 0
      },
      "text/plain": [
       "Optimal Approximation:   0%|          | 0/4 [00:00<?, ?it/s]"
      ]
     },
     "metadata": {},
     "output_type": "display_data"
    },
    {
     "data": {
      "application/vnd.jupyter.widget-view+json": {
       "model_id": "ad505d1429a042719a1dd5ca71217f85",
       "version_major": 2,
       "version_minor": 0
      },
      "text/plain": [
       "Optimal Approximation:   0%|          | 0/4 [00:00<?, ?it/s]"
      ]
     },
     "metadata": {},
     "output_type": "display_data"
    },
    {
     "data": {
      "application/vnd.jupyter.widget-view+json": {
       "model_id": "121954634ffe4933bb53c72582dd8abf",
       "version_major": 2,
       "version_minor": 0
      },
      "text/plain": [
       "Optimal Approximation:   0%|          | 0/4 [00:00<?, ?it/s]"
      ]
     },
     "metadata": {},
     "output_type": "display_data"
    },
    {
     "data": {
      "application/vnd.jupyter.widget-view+json": {
       "model_id": "b3da61b18d6f4807b64eb091de28dee0",
       "version_major": 2,
       "version_minor": 0
      },
      "text/plain": [
       "Optimal Approximation:   0%|          | 0/4 [00:00<?, ?it/s]"
      ]
     },
     "metadata": {},
     "output_type": "display_data"
    },
    {
     "data": {
      "application/vnd.jupyter.widget-view+json": {
       "model_id": "3b95da08354a412ca45f878232993c4d",
       "version_major": 2,
       "version_minor": 0
      },
      "text/plain": [
       "Optimal Approximation:   0%|          | 0/4 [00:00<?, ?it/s]"
      ]
     },
     "metadata": {},
     "output_type": "display_data"
    },
    {
     "data": {
      "application/vnd.jupyter.widget-view+json": {
       "model_id": "690d71dd15dc422393f750599269a6f3",
       "version_major": 2,
       "version_minor": 0
      },
      "text/plain": [
       "Optimal Approximation:   0%|          | 0/4 [00:00<?, ?it/s]"
      ]
     },
     "metadata": {},
     "output_type": "display_data"
    },
    {
     "data": {
      "application/vnd.jupyter.widget-view+json": {
       "model_id": "85bfd113d7ad4562aa5e9fd5e8d239c5",
       "version_major": 2,
       "version_minor": 0
      },
      "text/plain": [
       "Optimal Approximation:   0%|          | 0/4 [00:00<?, ?it/s]"
      ]
     },
     "metadata": {},
     "output_type": "display_data"
    },
    {
     "data": {
      "application/vnd.jupyter.widget-view+json": {
       "model_id": "77876fbb8fb64e90a15cfc1343cedfef",
       "version_major": 2,
       "version_minor": 0
      },
      "text/plain": [
       "Optimal Approximation:   0%|          | 0/4 [00:00<?, ?it/s]"
      ]
     },
     "metadata": {},
     "output_type": "display_data"
    },
    {
     "data": {
      "application/vnd.jupyter.widget-view+json": {
       "model_id": "3b44969b6e1a4cbfb7a271803efe2966",
       "version_major": 2,
       "version_minor": 0
      },
      "text/plain": [
       "Optimal Approximation:   0%|          | 0/4 [00:00<?, ?it/s]"
      ]
     },
     "metadata": {},
     "output_type": "display_data"
    },
    {
     "data": {
      "application/vnd.jupyter.widget-view+json": {
       "model_id": "17ac0512d9564a2a917f7f12f8a96242",
       "version_major": 2,
       "version_minor": 0
      },
      "text/plain": [
       "Optimal Approximation:   0%|          | 0/4 [00:00<?, ?it/s]"
      ]
     },
     "metadata": {},
     "output_type": "display_data"
    },
    {
     "data": {
      "application/vnd.jupyter.widget-view+json": {
       "model_id": "eb0b78b6f5cf4967846f4cb4680a9cc0",
       "version_major": 2,
       "version_minor": 0
      },
      "text/plain": [
       "Optimal Approximation:   0%|          | 0/4 [00:00<?, ?it/s]"
      ]
     },
     "metadata": {},
     "output_type": "display_data"
    },
    {
     "data": {
      "application/vnd.jupyter.widget-view+json": {
       "model_id": "4f061454b07442638ceeec43d734ea7d",
       "version_major": 2,
       "version_minor": 0
      },
      "text/plain": [
       "Optimal Approximation:   0%|          | 0/4 [00:00<?, ?it/s]"
      ]
     },
     "metadata": {},
     "output_type": "display_data"
    },
    {
     "data": {
      "application/vnd.jupyter.widget-view+json": {
       "model_id": "85f2e2ea52294f7e9953a3a291ff95f3",
       "version_major": 2,
       "version_minor": 0
      },
      "text/plain": [
       "Optimal Approximation:   0%|          | 0/4 [00:00<?, ?it/s]"
      ]
     },
     "metadata": {},
     "output_type": "display_data"
    },
    {
     "data": {
      "application/vnd.jupyter.widget-view+json": {
       "model_id": "c4f2618e065747d1aa81cba83c4ba794",
       "version_major": 2,
       "version_minor": 0
      },
      "text/plain": [
       "Optimal Approximation:   0%|          | 0/4 [00:00<?, ?it/s]"
      ]
     },
     "metadata": {},
     "output_type": "display_data"
    },
    {
     "data": {
      "application/vnd.jupyter.widget-view+json": {
       "model_id": "5e4b136b5af44a91ab30b5a765e897d5",
       "version_major": 2,
       "version_minor": 0
      },
      "text/plain": [
       "Optimal Approximation:   0%|          | 0/4 [00:00<?, ?it/s]"
      ]
     },
     "metadata": {},
     "output_type": "display_data"
    },
    {
     "data": {
      "application/vnd.jupyter.widget-view+json": {
       "model_id": "0250ed2196344c2f8f958d66222019d4",
       "version_major": 2,
       "version_minor": 0
      },
      "text/plain": [
       "Optimal Approximation:   0%|          | 0/4 [00:00<?, ?it/s]"
      ]
     },
     "metadata": {},
     "output_type": "display_data"
    },
    {
     "data": {
      "application/vnd.jupyter.widget-view+json": {
       "model_id": "4715acde3c444a67ad1f4914e41862b4",
       "version_major": 2,
       "version_minor": 0
      },
      "text/plain": [
       "Optimal Approximation:   0%|          | 0/4 [00:00<?, ?it/s]"
      ]
     },
     "metadata": {},
     "output_type": "display_data"
    },
    {
     "data": {
      "application/vnd.jupyter.widget-view+json": {
       "model_id": "51d944c5ac2d4616947de71c2797302f",
       "version_major": 2,
       "version_minor": 0
      },
      "text/plain": [
       "Optimal Approximation:   0%|          | 0/4 [00:00<?, ?it/s]"
      ]
     },
     "metadata": {},
     "output_type": "display_data"
    },
    {
     "data": {
      "application/vnd.jupyter.widget-view+json": {
       "model_id": "0a25f70d298d42a49618a84e3fba2860",
       "version_major": 2,
       "version_minor": 0
      },
      "text/plain": [
       "Optimal Approximation:   0%|          | 0/4 [00:00<?, ?it/s]"
      ]
     },
     "metadata": {},
     "output_type": "display_data"
    },
    {
     "data": {
      "application/vnd.jupyter.widget-view+json": {
       "model_id": "1f36131556554398a8a2b4117540f378",
       "version_major": 2,
       "version_minor": 0
      },
      "text/plain": [
       "Optimal Approximation:   0%|          | 0/4 [00:00<?, ?it/s]"
      ]
     },
     "metadata": {},
     "output_type": "display_data"
    },
    {
     "data": {
      "application/vnd.jupyter.widget-view+json": {
       "model_id": "c1be43479651455bbefdf563de01097d",
       "version_major": 2,
       "version_minor": 0
      },
      "text/plain": [
       "Optimal Approximation:   0%|          | 0/4 [00:00<?, ?it/s]"
      ]
     },
     "metadata": {},
     "output_type": "display_data"
    },
    {
     "data": {
      "application/vnd.jupyter.widget-view+json": {
       "model_id": "5fa7313161de47ab9be642af7265aab6",
       "version_major": 2,
       "version_minor": 0
      },
      "text/plain": [
       "Optimal Approximation:   0%|          | 0/4 [00:00<?, ?it/s]"
      ]
     },
     "metadata": {},
     "output_type": "display_data"
    },
    {
     "data": {
      "application/vnd.jupyter.widget-view+json": {
       "model_id": "6c1a2c2dd31246ed96f0ae1d860e266a",
       "version_major": 2,
       "version_minor": 0
      },
      "text/plain": [
       "Optimal Approximation:   0%|          | 0/4 [00:00<?, ?it/s]"
      ]
     },
     "metadata": {},
     "output_type": "display_data"
    },
    {
     "data": {
      "application/vnd.jupyter.widget-view+json": {
       "model_id": "2900c5dc9eb44896920f5b85a06fbcb3",
       "version_major": 2,
       "version_minor": 0
      },
      "text/plain": [
       "Optimal Approximation:   0%|          | 0/4 [00:00<?, ?it/s]"
      ]
     },
     "metadata": {},
     "output_type": "display_data"
    },
    {
     "data": {
      "application/vnd.jupyter.widget-view+json": {
       "model_id": "27340c62660f49d28e7322bd7c8a0a96",
       "version_major": 2,
       "version_minor": 0
      },
      "text/plain": [
       "Optimal Approximation:   0%|          | 0/4 [00:00<?, ?it/s]"
      ]
     },
     "metadata": {},
     "output_type": "display_data"
    },
    {
     "data": {
      "application/vnd.jupyter.widget-view+json": {
       "model_id": "58313bcc00be4e2bb06ae398195ebbb5",
       "version_major": 2,
       "version_minor": 0
      },
      "text/plain": [
       "Optimal Approximation:   0%|          | 0/4 [00:00<?, ?it/s]"
      ]
     },
     "metadata": {},
     "output_type": "display_data"
    },
    {
     "data": {
      "application/vnd.jupyter.widget-view+json": {
       "model_id": "7778e34ed5b74918a861f3175da557bc",
       "version_major": 2,
       "version_minor": 0
      },
      "text/plain": [
       "Optimal Approximation:   0%|          | 0/4 [00:00<?, ?it/s]"
      ]
     },
     "metadata": {},
     "output_type": "display_data"
    },
    {
     "data": {
      "application/vnd.jupyter.widget-view+json": {
       "model_id": "c176d7f1a1384608b630321f1df3369e",
       "version_major": 2,
       "version_minor": 0
      },
      "text/plain": [
       "Optimal Approximation:   0%|          | 0/4 [00:00<?, ?it/s]"
      ]
     },
     "metadata": {},
     "output_type": "display_data"
    },
    {
     "data": {
      "application/vnd.jupyter.widget-view+json": {
       "model_id": "000e117385d94a7bb6d2e1bc48a597a5",
       "version_major": 2,
       "version_minor": 0
      },
      "text/plain": [
       "Optimal Approximation:   0%|          | 0/4 [00:00<?, ?it/s]"
      ]
     },
     "metadata": {},
     "output_type": "display_data"
    },
    {
     "name": "stdout",
     "output_type": "stream",
     "text": [
      "--------------------------------------------------\n",
      "n = 10\n",
      "f(x) = exp(x)\n"
     ]
    },
    {
     "data": {
      "application/vnd.jupyter.widget-view+json": {
       "model_id": "2271461d999e45109b6e61599eebd93d",
       "version_major": 2,
       "version_minor": 0
      },
      "text/plain": [
       "Optimal Approximation:   0%|          | 0/9 [00:00<?, ?it/s]"
      ]
     },
     "metadata": {},
     "output_type": "display_data"
    },
    {
     "data": {
      "application/vnd.jupyter.widget-view+json": {
       "model_id": "2dd52955c3b3402cae7365dfc07763f8",
       "version_major": 2,
       "version_minor": 0
      },
      "text/plain": [
       "Optimal Approximation:   0%|          | 0/9 [00:00<?, ?it/s]"
      ]
     },
     "metadata": {},
     "output_type": "display_data"
    },
    {
     "data": {
      "application/vnd.jupyter.widget-view+json": {
       "model_id": "a3113803290d4f98b259fc928b07e24d",
       "version_major": 2,
       "version_minor": 0
      },
      "text/plain": [
       "Optimal Approximation:   0%|          | 0/9 [00:00<?, ?it/s]"
      ]
     },
     "metadata": {},
     "output_type": "display_data"
    },
    {
     "data": {
      "application/vnd.jupyter.widget-view+json": {
       "model_id": "b02040398b4d47c2900cd7e52122eaf4",
       "version_major": 2,
       "version_minor": 0
      },
      "text/plain": [
       "Optimal Approximation:   0%|          | 0/9 [00:00<?, ?it/s]"
      ]
     },
     "metadata": {},
     "output_type": "display_data"
    },
    {
     "data": {
      "application/vnd.jupyter.widget-view+json": {
       "model_id": "74175e7e90464d888f815cb556dbc605",
       "version_major": 2,
       "version_minor": 0
      },
      "text/plain": [
       "Optimal Approximation:   0%|          | 0/9 [00:00<?, ?it/s]"
      ]
     },
     "metadata": {},
     "output_type": "display_data"
    },
    {
     "data": {
      "application/vnd.jupyter.widget-view+json": {
       "model_id": "9b4c66b84dfe4dda8efb1b4d47e44d87",
       "version_major": 2,
       "version_minor": 0
      },
      "text/plain": [
       "Optimal Approximation:   0%|          | 0/9 [00:00<?, ?it/s]"
      ]
     },
     "metadata": {},
     "output_type": "display_data"
    },
    {
     "data": {
      "application/vnd.jupyter.widget-view+json": {
       "model_id": "e71f4b54edc34738a9974231bc529012",
       "version_major": 2,
       "version_minor": 0
      },
      "text/plain": [
       "Optimal Approximation:   0%|          | 0/9 [00:00<?, ?it/s]"
      ]
     },
     "metadata": {},
     "output_type": "display_data"
    },
    {
     "data": {
      "application/vnd.jupyter.widget-view+json": {
       "model_id": "ac6dcd83c56f4a138133d52f0a35582d",
       "version_major": 2,
       "version_minor": 0
      },
      "text/plain": [
       "Optimal Approximation:   0%|          | 0/9 [00:00<?, ?it/s]"
      ]
     },
     "metadata": {},
     "output_type": "display_data"
    },
    {
     "data": {
      "application/vnd.jupyter.widget-view+json": {
       "model_id": "4c51d48547fc41e9baba1955ec553868",
       "version_major": 2,
       "version_minor": 0
      },
      "text/plain": [
       "Optimal Approximation:   0%|          | 0/9 [00:00<?, ?it/s]"
      ]
     },
     "metadata": {},
     "output_type": "display_data"
    },
    {
     "data": {
      "application/vnd.jupyter.widget-view+json": {
       "model_id": "612b993f4d8d4a6088aad2f350cde7b2",
       "version_major": 2,
       "version_minor": 0
      },
      "text/plain": [
       "Optimal Approximation:   0%|          | 0/9 [00:00<?, ?it/s]"
      ]
     },
     "metadata": {},
     "output_type": "display_data"
    },
    {
     "data": {
      "application/vnd.jupyter.widget-view+json": {
       "model_id": "da617b0b8e8443519ead69eda02bdd7c",
       "version_major": 2,
       "version_minor": 0
      },
      "text/plain": [
       "Optimal Approximation:   0%|          | 0/9 [00:00<?, ?it/s]"
      ]
     },
     "metadata": {},
     "output_type": "display_data"
    },
    {
     "data": {
      "application/vnd.jupyter.widget-view+json": {
       "model_id": "1f53298fdb36425680437efc85a19627",
       "version_major": 2,
       "version_minor": 0
      },
      "text/plain": [
       "Optimal Approximation:   0%|          | 0/9 [00:00<?, ?it/s]"
      ]
     },
     "metadata": {},
     "output_type": "display_data"
    },
    {
     "data": {
      "application/vnd.jupyter.widget-view+json": {
       "model_id": "be51daa6d77b4319a123605bff618aeb",
       "version_major": 2,
       "version_minor": 0
      },
      "text/plain": [
       "Optimal Approximation:   0%|          | 0/9 [00:00<?, ?it/s]"
      ]
     },
     "metadata": {},
     "output_type": "display_data"
    },
    {
     "data": {
      "application/vnd.jupyter.widget-view+json": {
       "model_id": "84605f77279442f9b0a48066ce0d8bd0",
       "version_major": 2,
       "version_minor": 0
      },
      "text/plain": [
       "Optimal Approximation:   0%|          | 0/9 [00:00<?, ?it/s]"
      ]
     },
     "metadata": {},
     "output_type": "display_data"
    },
    {
     "data": {
      "application/vnd.jupyter.widget-view+json": {
       "model_id": "f8bd114817db486abbd5e68fc8920f21",
       "version_major": 2,
       "version_minor": 0
      },
      "text/plain": [
       "Optimal Approximation:   0%|          | 0/9 [00:00<?, ?it/s]"
      ]
     },
     "metadata": {},
     "output_type": "display_data"
    },
    {
     "data": {
      "application/vnd.jupyter.widget-view+json": {
       "model_id": "9d64de5354b94ebaa6d671248c4bad27",
       "version_major": 2,
       "version_minor": 0
      },
      "text/plain": [
       "Optimal Approximation:   0%|          | 0/9 [00:00<?, ?it/s]"
      ]
     },
     "metadata": {},
     "output_type": "display_data"
    },
    {
     "name": "stdout",
     "output_type": "stream",
     "text": [
      "--------------------------------------------------\n"
     ]
    }
   ],
   "source": [
    "for i in n:\n",
    "    print(f\"n = {i}\")\n",
    "    print(f\"f(x) = exp(x)\")\n",
    "    a, b = 0, 1\n",
    "    alpha = (b-a)**2 / (16 * i**2)\n",
    "    res = optimal_approx(i, exp, a, b, step)\n",
    "    errs.append({\n",
    "        \"function\": \"exp(x)\",\n",
    "        \"n\": i,\n",
    "        \"mean_err\": mean_err(res[1]),\n",
    "        \"upper_bound\": max_fx(get_derivative(get_derivative(exp)), (a, b)) * alpha,\n",
    "        \"lower_bound\": min_fx(get_derivative(get_derivative(exp)), (a, b)) * alpha,\n",
    "        \"max_gap\": max(res[1]) - min(res[1]),\n",
    "        \"rounds\": res[2]\n",
    "    })\n",
    "    print('-'*50)"
   ]
  },
  {
   "cell_type": "code",
   "execution_count": 10,
   "metadata": {
    "ExecuteTime": {
     "end_time": "2025-02-18T13:42:49.849648Z",
     "start_time": "2025-02-18T13:42:49.696080Z"
    }
   },
   "outputs": [
    {
     "name": "stdout",
     "output_type": "stream",
     "text": [
      "n = 2\n",
      "f(x) = x^2\n"
     ]
    },
    {
     "data": {
      "application/vnd.jupyter.widget-view+json": {
       "model_id": "b5f8dc20695e44edb0e4b318f800974b",
       "version_major": 2,
       "version_minor": 0
      },
      "text/plain": [
       "Optimal Approximation:   0%|          | 0/1 [00:00<?, ?it/s]"
      ]
     },
     "metadata": {},
     "output_type": "display_data"
    },
    {
     "name": "stdout",
     "output_type": "stream",
     "text": [
      "--------------------------------------------------\n",
      "n = 3\n",
      "f(x) = x^2\n"
     ]
    },
    {
     "data": {
      "application/vnd.jupyter.widget-view+json": {
       "model_id": "a02a6879d6274f6481badba0406407d6",
       "version_major": 2,
       "version_minor": 0
      },
      "text/plain": [
       "Optimal Approximation:   0%|          | 0/2 [00:00<?, ?it/s]"
      ]
     },
     "metadata": {},
     "output_type": "display_data"
    },
    {
     "name": "stdout",
     "output_type": "stream",
     "text": [
      "--------------------------------------------------\n",
      "n = 5\n",
      "f(x) = x^2\n"
     ]
    },
    {
     "data": {
      "application/vnd.jupyter.widget-view+json": {
       "model_id": "4baa35f0ba3f413ebc2558a002db9332",
       "version_major": 2,
       "version_minor": 0
      },
      "text/plain": [
       "Optimal Approximation:   0%|          | 0/4 [00:00<?, ?it/s]"
      ]
     },
     "metadata": {},
     "output_type": "display_data"
    },
    {
     "name": "stdout",
     "output_type": "stream",
     "text": [
      "--------------------------------------------------\n",
      "n = 10\n",
      "f(x) = x^2\n"
     ]
    },
    {
     "data": {
      "application/vnd.jupyter.widget-view+json": {
       "model_id": "8df99cc6bb3b4ffda6cd7b57cbc3eaf3",
       "version_major": 2,
       "version_minor": 0
      },
      "text/plain": [
       "Optimal Approximation:   0%|          | 0/9 [00:00<?, ?it/s]"
      ]
     },
     "metadata": {},
     "output_type": "display_data"
    },
    {
     "name": "stdout",
     "output_type": "stream",
     "text": [
      "--------------------------------------------------\n"
     ]
    }
   ],
   "source": [
    "for i in n:\n",
    "    print(f\"n = {i}\")\n",
    "    print(f\"f(x) = x^2\")\n",
    "    a, b = -1, 1\n",
    "    alpha = (b-a)**2 / (16 * i**2)\n",
    "    res = optimal_approx(i, square, a, b, step)\n",
    "    errs.append({\n",
    "        \"function\": \"x^2\",\n",
    "        \"n\": i,\n",
    "        \"mean_err\": mean_err(res[1]),\n",
    "        \"upper_bound\": max_fx(get_derivative(get_derivative(square)), (a, b)) * alpha,\n",
    "        \"lower_bound\": min_fx(get_derivative(get_derivative(square)), (a, b)) * alpha,\n",
    "        \"max_gap\": max(res[1]) - min(res[1]),\n",
    "        \"rounds\": res[2]\n",
    "    })\n",
    "    print('-'*50)"
   ]
  },
  {
   "cell_type": "code",
   "execution_count": 11,
   "metadata": {
    "ExecuteTime": {
     "end_time": "2025-02-18T13:45:29.037558Z",
     "start_time": "2025-02-18T13:42:50.198030Z"
    }
   },
   "outputs": [
    {
     "name": "stdout",
     "output_type": "stream",
     "text": [
      "n = 2\n",
      "f(x) = x^3\n"
     ]
    },
    {
     "data": {
      "application/vnd.jupyter.widget-view+json": {
       "model_id": "bdc4373c956b4fbb85d6a1b470026412",
       "version_major": 2,
       "version_minor": 0
      },
      "text/plain": [
       "Optimal Approximation:   0%|          | 0/1 [00:00<?, ?it/s]"
      ]
     },
     "metadata": {},
     "output_type": "display_data"
    },
    {
     "data": {
      "application/vnd.jupyter.widget-view+json": {
       "model_id": "82e753b525f842999abbc2dfd2dd7537",
       "version_major": 2,
       "version_minor": 0
      },
      "text/plain": [
       "Optimal Approximation:   0%|          | 0/1 [00:00<?, ?it/s]"
      ]
     },
     "metadata": {},
     "output_type": "display_data"
    },
    {
     "data": {
      "application/vnd.jupyter.widget-view+json": {
       "model_id": "fd2554a1a1994099994bb2bfcd05dd30",
       "version_major": 2,
       "version_minor": 0
      },
      "text/plain": [
       "Optimal Approximation:   0%|          | 0/1 [00:00<?, ?it/s]"
      ]
     },
     "metadata": {},
     "output_type": "display_data"
    },
    {
     "name": "stdout",
     "output_type": "stream",
     "text": [
      "--------------------------------------------------\n",
      "n = 3\n",
      "f(x) = x^3\n"
     ]
    },
    {
     "data": {
      "application/vnd.jupyter.widget-view+json": {
       "model_id": "c960123ba67144438d7de2d5736e5278",
       "version_major": 2,
       "version_minor": 0
      },
      "text/plain": [
       "Optimal Approximation:   0%|          | 0/2 [00:00<?, ?it/s]"
      ]
     },
     "metadata": {},
     "output_type": "display_data"
    },
    {
     "data": {
      "application/vnd.jupyter.widget-view+json": {
       "model_id": "9cf36b6e6c0844299513207aa2f7641e",
       "version_major": 2,
       "version_minor": 0
      },
      "text/plain": [
       "Optimal Approximation:   0%|          | 0/2 [00:00<?, ?it/s]"
      ]
     },
     "metadata": {},
     "output_type": "display_data"
    },
    {
     "data": {
      "application/vnd.jupyter.widget-view+json": {
       "model_id": "efbc7244f21b4907890fa4743bcfd09d",
       "version_major": 2,
       "version_minor": 0
      },
      "text/plain": [
       "Optimal Approximation:   0%|          | 0/2 [00:00<?, ?it/s]"
      ]
     },
     "metadata": {},
     "output_type": "display_data"
    },
    {
     "data": {
      "application/vnd.jupyter.widget-view+json": {
       "model_id": "23dfc5b8d7a749c8907eff8b59e1561d",
       "version_major": 2,
       "version_minor": 0
      },
      "text/plain": [
       "Optimal Approximation:   0%|          | 0/2 [00:00<?, ?it/s]"
      ]
     },
     "metadata": {},
     "output_type": "display_data"
    },
    {
     "data": {
      "application/vnd.jupyter.widget-view+json": {
       "model_id": "445a96c79640414281959c332ef4c153",
       "version_major": 2,
       "version_minor": 0
      },
      "text/plain": [
       "Optimal Approximation:   0%|          | 0/2 [00:00<?, ?it/s]"
      ]
     },
     "metadata": {},
     "output_type": "display_data"
    },
    {
     "data": {
      "application/vnd.jupyter.widget-view+json": {
       "model_id": "68e3b2010db742bfa6191f0c0f60d8ec",
       "version_major": 2,
       "version_minor": 0
      },
      "text/plain": [
       "Optimal Approximation:   0%|          | 0/2 [00:00<?, ?it/s]"
      ]
     },
     "metadata": {},
     "output_type": "display_data"
    },
    {
     "data": {
      "application/vnd.jupyter.widget-view+json": {
       "model_id": "7a2cef98ebd74a1094e5bddf994d1a8c",
       "version_major": 2,
       "version_minor": 0
      },
      "text/plain": [
       "Optimal Approximation:   0%|          | 0/2 [00:00<?, ?it/s]"
      ]
     },
     "metadata": {},
     "output_type": "display_data"
    },
    {
     "data": {
      "application/vnd.jupyter.widget-view+json": {
       "model_id": "78fe45d680bd43bea94f62031b81dff0",
       "version_major": 2,
       "version_minor": 0
      },
      "text/plain": [
       "Optimal Approximation:   0%|          | 0/2 [00:00<?, ?it/s]"
      ]
     },
     "metadata": {},
     "output_type": "display_data"
    },
    {
     "data": {
      "application/vnd.jupyter.widget-view+json": {
       "model_id": "4146ea4528724b5b8d47f8116ead756d",
       "version_major": 2,
       "version_minor": 0
      },
      "text/plain": [
       "Optimal Approximation:   0%|          | 0/2 [00:00<?, ?it/s]"
      ]
     },
     "metadata": {},
     "output_type": "display_data"
    },
    {
     "data": {
      "application/vnd.jupyter.widget-view+json": {
       "model_id": "c83a1ca36e8042c483578b615a57b09e",
       "version_major": 2,
       "version_minor": 0
      },
      "text/plain": [
       "Optimal Approximation:   0%|          | 0/2 [00:00<?, ?it/s]"
      ]
     },
     "metadata": {},
     "output_type": "display_data"
    },
    {
     "data": {
      "application/vnd.jupyter.widget-view+json": {
       "model_id": "7eb95e9044ab4cf08b976f707a578872",
       "version_major": 2,
       "version_minor": 0
      },
      "text/plain": [
       "Optimal Approximation:   0%|          | 0/2 [00:00<?, ?it/s]"
      ]
     },
     "metadata": {},
     "output_type": "display_data"
    },
    {
     "data": {
      "application/vnd.jupyter.widget-view+json": {
       "model_id": "0dd8d06e76af463a8079067a6de2a13d",
       "version_major": 2,
       "version_minor": 0
      },
      "text/plain": [
       "Optimal Approximation:   0%|          | 0/2 [00:00<?, ?it/s]"
      ]
     },
     "metadata": {},
     "output_type": "display_data"
    },
    {
     "data": {
      "application/vnd.jupyter.widget-view+json": {
       "model_id": "d144c5158e8148608b907337f281a65a",
       "version_major": 2,
       "version_minor": 0
      },
      "text/plain": [
       "Optimal Approximation:   0%|          | 0/2 [00:00<?, ?it/s]"
      ]
     },
     "metadata": {},
     "output_type": "display_data"
    },
    {
     "data": {
      "application/vnd.jupyter.widget-view+json": {
       "model_id": "e45e5573aeed48ad82f64c33193c3280",
       "version_major": 2,
       "version_minor": 0
      },
      "text/plain": [
       "Optimal Approximation:   0%|          | 0/2 [00:00<?, ?it/s]"
      ]
     },
     "metadata": {},
     "output_type": "display_data"
    },
    {
     "data": {
      "application/vnd.jupyter.widget-view+json": {
       "model_id": "1c62c9af3e994b0d8f651baa511a2f96",
       "version_major": 2,
       "version_minor": 0
      },
      "text/plain": [
       "Optimal Approximation:   0%|          | 0/2 [00:00<?, ?it/s]"
      ]
     },
     "metadata": {},
     "output_type": "display_data"
    },
    {
     "data": {
      "application/vnd.jupyter.widget-view+json": {
       "model_id": "553eed00c22148529fb22f0cba64f23a",
       "version_major": 2,
       "version_minor": 0
      },
      "text/plain": [
       "Optimal Approximation:   0%|          | 0/2 [00:00<?, ?it/s]"
      ]
     },
     "metadata": {},
     "output_type": "display_data"
    },
    {
     "name": "stdout",
     "output_type": "stream",
     "text": [
      "--------------------------------------------------\n",
      "n = 5\n",
      "f(x) = x^3\n"
     ]
    },
    {
     "data": {
      "application/vnd.jupyter.widget-view+json": {
       "model_id": "2831236e674e48f084a175976168417f",
       "version_major": 2,
       "version_minor": 0
      },
      "text/plain": [
       "Optimal Approximation:   0%|          | 0/4 [00:00<?, ?it/s]"
      ]
     },
     "metadata": {},
     "output_type": "display_data"
    },
    {
     "data": {
      "application/vnd.jupyter.widget-view+json": {
       "model_id": "41cfcb8495c9492785e270bff9c4bba5",
       "version_major": 2,
       "version_minor": 0
      },
      "text/plain": [
       "Optimal Approximation:   0%|          | 0/4 [00:00<?, ?it/s]"
      ]
     },
     "metadata": {},
     "output_type": "display_data"
    },
    {
     "data": {
      "application/vnd.jupyter.widget-view+json": {
       "model_id": "911164066481464db4b65ac6ec19d9e2",
       "version_major": 2,
       "version_minor": 0
      },
      "text/plain": [
       "Optimal Approximation:   0%|          | 0/4 [00:00<?, ?it/s]"
      ]
     },
     "metadata": {},
     "output_type": "display_data"
    },
    {
     "data": {
      "application/vnd.jupyter.widget-view+json": {
       "model_id": "5c95efd052d74f5492f2888ea1645539",
       "version_major": 2,
       "version_minor": 0
      },
      "text/plain": [
       "Optimal Approximation:   0%|          | 0/4 [00:00<?, ?it/s]"
      ]
     },
     "metadata": {},
     "output_type": "display_data"
    },
    {
     "data": {
      "application/vnd.jupyter.widget-view+json": {
       "model_id": "650db190d2044ca0a9c1e2a84e7b5969",
       "version_major": 2,
       "version_minor": 0
      },
      "text/plain": [
       "Optimal Approximation:   0%|          | 0/4 [00:00<?, ?it/s]"
      ]
     },
     "metadata": {},
     "output_type": "display_data"
    },
    {
     "data": {
      "application/vnd.jupyter.widget-view+json": {
       "model_id": "0aa43ba9cf0d4824bcbf6cef52f50d21",
       "version_major": 2,
       "version_minor": 0
      },
      "text/plain": [
       "Optimal Approximation:   0%|          | 0/4 [00:00<?, ?it/s]"
      ]
     },
     "metadata": {},
     "output_type": "display_data"
    },
    {
     "data": {
      "application/vnd.jupyter.widget-view+json": {
       "model_id": "a2ae6e2af85b40c89655075009f775b4",
       "version_major": 2,
       "version_minor": 0
      },
      "text/plain": [
       "Optimal Approximation:   0%|          | 0/4 [00:00<?, ?it/s]"
      ]
     },
     "metadata": {},
     "output_type": "display_data"
    },
    {
     "data": {
      "application/vnd.jupyter.widget-view+json": {
       "model_id": "08fcbf72f8f8407b94a9c98138d01e2d",
       "version_major": 2,
       "version_minor": 0
      },
      "text/plain": [
       "Optimal Approximation:   0%|          | 0/4 [00:00<?, ?it/s]"
      ]
     },
     "metadata": {},
     "output_type": "display_data"
    },
    {
     "data": {
      "application/vnd.jupyter.widget-view+json": {
       "model_id": "e437f1e5207a49fabef8ca968aa7ae30",
       "version_major": 2,
       "version_minor": 0
      },
      "text/plain": [
       "Optimal Approximation:   0%|          | 0/4 [00:00<?, ?it/s]"
      ]
     },
     "metadata": {},
     "output_type": "display_data"
    },
    {
     "data": {
      "application/vnd.jupyter.widget-view+json": {
       "model_id": "5bda366310b2463c82b87d8df5b0fa57",
       "version_major": 2,
       "version_minor": 0
      },
      "text/plain": [
       "Optimal Approximation:   0%|          | 0/4 [00:00<?, ?it/s]"
      ]
     },
     "metadata": {},
     "output_type": "display_data"
    },
    {
     "data": {
      "application/vnd.jupyter.widget-view+json": {
       "model_id": "345ba99acd5b4466ba3b78805fddd0a3",
       "version_major": 2,
       "version_minor": 0
      },
      "text/plain": [
       "Optimal Approximation:   0%|          | 0/4 [00:00<?, ?it/s]"
      ]
     },
     "metadata": {},
     "output_type": "display_data"
    },
    {
     "data": {
      "application/vnd.jupyter.widget-view+json": {
       "model_id": "8b26edb57215426585751db91f01a73e",
       "version_major": 2,
       "version_minor": 0
      },
      "text/plain": [
       "Optimal Approximation:   0%|          | 0/4 [00:00<?, ?it/s]"
      ]
     },
     "metadata": {},
     "output_type": "display_data"
    },
    {
     "data": {
      "application/vnd.jupyter.widget-view+json": {
       "model_id": "df67a76b73204622be9e09bae5888f97",
       "version_major": 2,
       "version_minor": 0
      },
      "text/plain": [
       "Optimal Approximation:   0%|          | 0/4 [00:00<?, ?it/s]"
      ]
     },
     "metadata": {},
     "output_type": "display_data"
    },
    {
     "data": {
      "application/vnd.jupyter.widget-view+json": {
       "model_id": "7f3378e1981b461d83bfdeccf639af87",
       "version_major": 2,
       "version_minor": 0
      },
      "text/plain": [
       "Optimal Approximation:   0%|          | 0/4 [00:00<?, ?it/s]"
      ]
     },
     "metadata": {},
     "output_type": "display_data"
    },
    {
     "data": {
      "application/vnd.jupyter.widget-view+json": {
       "model_id": "4c759228655546deb0ad6eca56260b42",
       "version_major": 2,
       "version_minor": 0
      },
      "text/plain": [
       "Optimal Approximation:   0%|          | 0/4 [00:00<?, ?it/s]"
      ]
     },
     "metadata": {},
     "output_type": "display_data"
    },
    {
     "data": {
      "application/vnd.jupyter.widget-view+json": {
       "model_id": "ca6f8c21fd5f494bbec247ef9492bbc1",
       "version_major": 2,
       "version_minor": 0
      },
      "text/plain": [
       "Optimal Approximation:   0%|          | 0/4 [00:00<?, ?it/s]"
      ]
     },
     "metadata": {},
     "output_type": "display_data"
    },
    {
     "data": {
      "application/vnd.jupyter.widget-view+json": {
       "model_id": "2830226827064925954d428845f33d3f",
       "version_major": 2,
       "version_minor": 0
      },
      "text/plain": [
       "Optimal Approximation:   0%|          | 0/4 [00:00<?, ?it/s]"
      ]
     },
     "metadata": {},
     "output_type": "display_data"
    },
    {
     "data": {
      "application/vnd.jupyter.widget-view+json": {
       "model_id": "9bbd69cfcf82413fa2b16bad1d3cc0de",
       "version_major": 2,
       "version_minor": 0
      },
      "text/plain": [
       "Optimal Approximation:   0%|          | 0/4 [00:00<?, ?it/s]"
      ]
     },
     "metadata": {},
     "output_type": "display_data"
    },
    {
     "data": {
      "application/vnd.jupyter.widget-view+json": {
       "model_id": "833820080a324e80a1f4fd97b7106d2e",
       "version_major": 2,
       "version_minor": 0
      },
      "text/plain": [
       "Optimal Approximation:   0%|          | 0/4 [00:00<?, ?it/s]"
      ]
     },
     "metadata": {},
     "output_type": "display_data"
    },
    {
     "data": {
      "application/vnd.jupyter.widget-view+json": {
       "model_id": "3acc4fd82a3247f28b123447ba686dd6",
       "version_major": 2,
       "version_minor": 0
      },
      "text/plain": [
       "Optimal Approximation:   0%|          | 0/4 [00:00<?, ?it/s]"
      ]
     },
     "metadata": {},
     "output_type": "display_data"
    },
    {
     "data": {
      "application/vnd.jupyter.widget-view+json": {
       "model_id": "d4b255a65ff747b0aa1e9f1259a23167",
       "version_major": 2,
       "version_minor": 0
      },
      "text/plain": [
       "Optimal Approximation:   0%|          | 0/4 [00:00<?, ?it/s]"
      ]
     },
     "metadata": {},
     "output_type": "display_data"
    },
    {
     "data": {
      "application/vnd.jupyter.widget-view+json": {
       "model_id": "9d7372c5d15941189d9d67903ad0f7a2",
       "version_major": 2,
       "version_minor": 0
      },
      "text/plain": [
       "Optimal Approximation:   0%|          | 0/4 [00:00<?, ?it/s]"
      ]
     },
     "metadata": {},
     "output_type": "display_data"
    },
    {
     "data": {
      "application/vnd.jupyter.widget-view+json": {
       "model_id": "2f1e9af3f0e34550a8d51c84d976ff6b",
       "version_major": 2,
       "version_minor": 0
      },
      "text/plain": [
       "Optimal Approximation:   0%|          | 0/4 [00:00<?, ?it/s]"
      ]
     },
     "metadata": {},
     "output_type": "display_data"
    },
    {
     "data": {
      "application/vnd.jupyter.widget-view+json": {
       "model_id": "66a34357f1654a8cbd14dfb11f078c12",
       "version_major": 2,
       "version_minor": 0
      },
      "text/plain": [
       "Optimal Approximation:   0%|          | 0/4 [00:00<?, ?it/s]"
      ]
     },
     "metadata": {},
     "output_type": "display_data"
    },
    {
     "data": {
      "application/vnd.jupyter.widget-view+json": {
       "model_id": "3d7dda1322ae4279853f8a7eaa179aaf",
       "version_major": 2,
       "version_minor": 0
      },
      "text/plain": [
       "Optimal Approximation:   0%|          | 0/4 [00:00<?, ?it/s]"
      ]
     },
     "metadata": {},
     "output_type": "display_data"
    },
    {
     "data": {
      "application/vnd.jupyter.widget-view+json": {
       "model_id": "32d1ae8195554d23b49df709d6ca7112",
       "version_major": 2,
       "version_minor": 0
      },
      "text/plain": [
       "Optimal Approximation:   0%|          | 0/4 [00:00<?, ?it/s]"
      ]
     },
     "metadata": {},
     "output_type": "display_data"
    },
    {
     "data": {
      "application/vnd.jupyter.widget-view+json": {
       "model_id": "07cd0adc695840d3a2b438b7d93cbdb2",
       "version_major": 2,
       "version_minor": 0
      },
      "text/plain": [
       "Optimal Approximation:   0%|          | 0/4 [00:00<?, ?it/s]"
      ]
     },
     "metadata": {},
     "output_type": "display_data"
    },
    {
     "data": {
      "application/vnd.jupyter.widget-view+json": {
       "model_id": "e9404e90e56a48c59fd03711c5e6e50f",
       "version_major": 2,
       "version_minor": 0
      },
      "text/plain": [
       "Optimal Approximation:   0%|          | 0/4 [00:00<?, ?it/s]"
      ]
     },
     "metadata": {},
     "output_type": "display_data"
    },
    {
     "data": {
      "application/vnd.jupyter.widget-view+json": {
       "model_id": "6855b8242b664474a94b2c17ef49b445",
       "version_major": 2,
       "version_minor": 0
      },
      "text/plain": [
       "Optimal Approximation:   0%|          | 0/4 [00:00<?, ?it/s]"
      ]
     },
     "metadata": {},
     "output_type": "display_data"
    },
    {
     "data": {
      "application/vnd.jupyter.widget-view+json": {
       "model_id": "654a9ccd16754fe8b8192ccba9c75f12",
       "version_major": 2,
       "version_minor": 0
      },
      "text/plain": [
       "Optimal Approximation:   0%|          | 0/4 [00:00<?, ?it/s]"
      ]
     },
     "metadata": {},
     "output_type": "display_data"
    },
    {
     "data": {
      "application/vnd.jupyter.widget-view+json": {
       "model_id": "e36524635dce4d2d95a706899bdd9617",
       "version_major": 2,
       "version_minor": 0
      },
      "text/plain": [
       "Optimal Approximation:   0%|          | 0/4 [00:00<?, ?it/s]"
      ]
     },
     "metadata": {},
     "output_type": "display_data"
    },
    {
     "data": {
      "application/vnd.jupyter.widget-view+json": {
       "model_id": "a1a00736763e4a0ea260f13895dcecec",
       "version_major": 2,
       "version_minor": 0
      },
      "text/plain": [
       "Optimal Approximation:   0%|          | 0/4 [00:00<?, ?it/s]"
      ]
     },
     "metadata": {},
     "output_type": "display_data"
    },
    {
     "name": "stdout",
     "output_type": "stream",
     "text": [
      "--------------------------------------------------\n",
      "n = 10\n",
      "f(x) = x^3\n"
     ]
    },
    {
     "data": {
      "application/vnd.jupyter.widget-view+json": {
       "model_id": "7467e81c8986411c9f4030690ef2f5f3",
       "version_major": 2,
       "version_minor": 0
      },
      "text/plain": [
       "Optimal Approximation:   0%|          | 0/9 [00:00<?, ?it/s]"
      ]
     },
     "metadata": {},
     "output_type": "display_data"
    },
    {
     "data": {
      "application/vnd.jupyter.widget-view+json": {
       "model_id": "ef2055b70fb14f07ace757b80d62e83f",
       "version_major": 2,
       "version_minor": 0
      },
      "text/plain": [
       "Optimal Approximation:   0%|          | 0/9 [00:00<?, ?it/s]"
      ]
     },
     "metadata": {},
     "output_type": "display_data"
    },
    {
     "data": {
      "application/vnd.jupyter.widget-view+json": {
       "model_id": "b02ad7689db840188be32395156350f2",
       "version_major": 2,
       "version_minor": 0
      },
      "text/plain": [
       "Optimal Approximation:   0%|          | 0/9 [00:00<?, ?it/s]"
      ]
     },
     "metadata": {},
     "output_type": "display_data"
    },
    {
     "data": {
      "application/vnd.jupyter.widget-view+json": {
       "model_id": "7b7a37eb23ad4dd480f7dd536eae8bbb",
       "version_major": 2,
       "version_minor": 0
      },
      "text/plain": [
       "Optimal Approximation:   0%|          | 0/9 [00:00<?, ?it/s]"
      ]
     },
     "metadata": {},
     "output_type": "display_data"
    },
    {
     "data": {
      "application/vnd.jupyter.widget-view+json": {
       "model_id": "a182812b10dd4ecfa72d310bbe86c765",
       "version_major": 2,
       "version_minor": 0
      },
      "text/plain": [
       "Optimal Approximation:   0%|          | 0/9 [00:00<?, ?it/s]"
      ]
     },
     "metadata": {},
     "output_type": "display_data"
    },
    {
     "data": {
      "application/vnd.jupyter.widget-view+json": {
       "model_id": "fcfb76efc50b416394d7b707a1a3d725",
       "version_major": 2,
       "version_minor": 0
      },
      "text/plain": [
       "Optimal Approximation:   0%|          | 0/9 [00:00<?, ?it/s]"
      ]
     },
     "metadata": {},
     "output_type": "display_data"
    },
    {
     "data": {
      "application/vnd.jupyter.widget-view+json": {
       "model_id": "ee636403bc1f4d409ad17b207b75d6b2",
       "version_major": 2,
       "version_minor": 0
      },
      "text/plain": [
       "Optimal Approximation:   0%|          | 0/9 [00:00<?, ?it/s]"
      ]
     },
     "metadata": {},
     "output_type": "display_data"
    },
    {
     "data": {
      "application/vnd.jupyter.widget-view+json": {
       "model_id": "8f98625e2e964a76a50a60a168076cc7",
       "version_major": 2,
       "version_minor": 0
      },
      "text/plain": [
       "Optimal Approximation:   0%|          | 0/9 [00:00<?, ?it/s]"
      ]
     },
     "metadata": {},
     "output_type": "display_data"
    },
    {
     "data": {
      "application/vnd.jupyter.widget-view+json": {
       "model_id": "1d0bcb2f69cd420d974cb59eb21caf69",
       "version_major": 2,
       "version_minor": 0
      },
      "text/plain": [
       "Optimal Approximation:   0%|          | 0/9 [00:00<?, ?it/s]"
      ]
     },
     "metadata": {},
     "output_type": "display_data"
    },
    {
     "data": {
      "application/vnd.jupyter.widget-view+json": {
       "model_id": "c2bb1e1450b945a595afc9a4517110dc",
       "version_major": 2,
       "version_minor": 0
      },
      "text/plain": [
       "Optimal Approximation:   0%|          | 0/9 [00:00<?, ?it/s]"
      ]
     },
     "metadata": {},
     "output_type": "display_data"
    },
    {
     "name": "stdout",
     "output_type": "stream",
     "text": [
      "--------------------------------------------------\n"
     ]
    }
   ],
   "source": [
    "for i in n:\n",
    "    print(f\"n = {i}\")\n",
    "    print(f\"f(x) = x^3\")\n",
    "    a, b = 0, 1\n",
    "    alpha = (b-a)**2 / (16 * i**2)\n",
    "    res = optimal_approx(i, triplet, a, b, step)\n",
    "    errs.append({\n",
    "        \"function\": \"x^3\",\n",
    "        \"n\": i,\n",
    "        \"mean_err\": mean_err(res[1]),\n",
    "        \"upper_bound\": max_fx(get_derivative(get_derivative(triplet)), (a, b)) * alpha,\n",
    "        \"lower_bound\": min_fx(get_derivative(get_derivative(triplet)), (a, b)) * alpha,\n",
    "        \"max_gap\": max(res[1]) - min(res[1]),\n",
    "        \"rounds\": res[2]\n",
    "    })\n",
    "    print('-'*50)"
   ]
  },
  {
   "cell_type": "markdown",
   "metadata": {},
   "source": [
    "### Results\n",
    "The results are displayed in the form of a table, showing values that are really close to published values in the paper."
   ]
  },
  {
   "cell_type": "code",
   "execution_count": 12,
   "metadata": {
    "ExecuteTime": {
     "end_time": "2025-02-18T13:45:29.138794Z",
     "start_time": "2025-02-18T13:45:29.078864Z"
    }
   },
   "outputs": [
    {
     "data": {
      "text/html": [
       "<div>\n",
       "<style scoped>\n",
       "    .dataframe tbody tr th:only-of-type {\n",
       "        vertical-align: middle;\n",
       "    }\n",
       "\n",
       "    .dataframe tbody tr th {\n",
       "        vertical-align: top;\n",
       "    }\n",
       "\n",
       "    .dataframe thead th {\n",
       "        text-align: right;\n",
       "    }\n",
       "</style>\n",
       "<table border=\"1\" class=\"dataframe\">\n",
       "  <thead>\n",
       "    <tr style=\"text-align: right;\">\n",
       "      <th></th>\n",
       "      <th>function</th>\n",
       "      <th>n</th>\n",
       "      <th>mean_err</th>\n",
       "      <th>upper_bound</th>\n",
       "      <th>lower_bound</th>\n",
       "      <th>max_gap</th>\n",
       "      <th>rounds</th>\n",
       "    </tr>\n",
       "  </thead>\n",
       "  <tbody>\n",
       "    <tr>\n",
       "      <th>0</th>\n",
       "      <td>exp(x)</td>\n",
       "      <td>2</td>\n",
       "      <td>0.026349</td>\n",
       "      <td>0.042445</td>\n",
       "      <td>1.562292e-02</td>\n",
       "      <td>0.000003</td>\n",
       "      <td>3089</td>\n",
       "    </tr>\n",
       "    <tr>\n",
       "      <th>1</th>\n",
       "      <td>exp(x)</td>\n",
       "      <td>3</td>\n",
       "      <td>0.011699</td>\n",
       "      <td>0.018865</td>\n",
       "      <td>6.943520e-03</td>\n",
       "      <td>0.000004</td>\n",
       "      <td>5544</td>\n",
       "    </tr>\n",
       "    <tr>\n",
       "      <th>2</th>\n",
       "      <td>exp(x)</td>\n",
       "      <td>5</td>\n",
       "      <td>0.004210</td>\n",
       "      <td>0.006791</td>\n",
       "      <td>2.499667e-03</td>\n",
       "      <td>0.000006</td>\n",
       "      <td>10054</td>\n",
       "    </tr>\n",
       "    <tr>\n",
       "      <th>3</th>\n",
       "      <td>exp(x)</td>\n",
       "      <td>10</td>\n",
       "      <td>0.001055</td>\n",
       "      <td>0.001698</td>\n",
       "      <td>6.249168e-04</td>\n",
       "      <td>0.000319</td>\n",
       "      <td>13138</td>\n",
       "    </tr>\n",
       "    <tr>\n",
       "      <th>4</th>\n",
       "      <td>x^2</td>\n",
       "      <td>2</td>\n",
       "      <td>0.125000</td>\n",
       "      <td>0.125011</td>\n",
       "      <td>1.249990e-01</td>\n",
       "      <td>0.000000</td>\n",
       "      <td>0</td>\n",
       "    </tr>\n",
       "    <tr>\n",
       "      <th>5</th>\n",
       "      <td>x^2</td>\n",
       "      <td>3</td>\n",
       "      <td>0.055556</td>\n",
       "      <td>0.055560</td>\n",
       "      <td>5.555510e-02</td>\n",
       "      <td>0.000007</td>\n",
       "      <td>1</td>\n",
       "    </tr>\n",
       "    <tr>\n",
       "      <th>6</th>\n",
       "      <td>x^2</td>\n",
       "      <td>5</td>\n",
       "      <td>0.020000</td>\n",
       "      <td>0.020002</td>\n",
       "      <td>1.999984e-02</td>\n",
       "      <td>0.000008</td>\n",
       "      <td>4</td>\n",
       "    </tr>\n",
       "    <tr>\n",
       "      <th>7</th>\n",
       "      <td>x^2</td>\n",
       "      <td>10</td>\n",
       "      <td>0.005000</td>\n",
       "      <td>0.005000</td>\n",
       "      <td>4.999959e-03</td>\n",
       "      <td>0.000003</td>\n",
       "      <td>6</td>\n",
       "    </tr>\n",
       "    <tr>\n",
       "      <th>8</th>\n",
       "      <td>x^2</td>\n",
       "      <td>2</td>\n",
       "      <td>0.125000</td>\n",
       "      <td>0.125011</td>\n",
       "      <td>1.249990e-01</td>\n",
       "      <td>0.000000</td>\n",
       "      <td>0</td>\n",
       "    </tr>\n",
       "    <tr>\n",
       "      <th>9</th>\n",
       "      <td>x^2</td>\n",
       "      <td>3</td>\n",
       "      <td>0.055556</td>\n",
       "      <td>0.055560</td>\n",
       "      <td>5.555510e-02</td>\n",
       "      <td>0.000007</td>\n",
       "      <td>1</td>\n",
       "    </tr>\n",
       "    <tr>\n",
       "      <th>10</th>\n",
       "      <td>x^2</td>\n",
       "      <td>5</td>\n",
       "      <td>0.020000</td>\n",
       "      <td>0.020002</td>\n",
       "      <td>1.999984e-02</td>\n",
       "      <td>0.000008</td>\n",
       "      <td>4</td>\n",
       "    </tr>\n",
       "    <tr>\n",
       "      <th>11</th>\n",
       "      <td>x^2</td>\n",
       "      <td>10</td>\n",
       "      <td>0.005000</td>\n",
       "      <td>0.005000</td>\n",
       "      <td>4.999959e-03</td>\n",
       "      <td>0.000003</td>\n",
       "      <td>6</td>\n",
       "    </tr>\n",
       "    <tr>\n",
       "      <th>12</th>\n",
       "      <td>x^3</td>\n",
       "      <td>2</td>\n",
       "      <td>0.044863</td>\n",
       "      <td>0.093750</td>\n",
       "      <td>6.525807e-07</td>\n",
       "      <td>0.000006</td>\n",
       "      <td>5775</td>\n",
       "    </tr>\n",
       "    <tr>\n",
       "      <th>13</th>\n",
       "      <td>x^3</td>\n",
       "      <td>3</td>\n",
       "      <td>0.019462</td>\n",
       "      <td>0.041667</td>\n",
       "      <td>2.900359e-07</td>\n",
       "      <td>0.000008</td>\n",
       "      <td>11183</td>\n",
       "    </tr>\n",
       "    <tr>\n",
       "      <th>14</th>\n",
       "      <td>x^3</td>\n",
       "      <td>5</td>\n",
       "      <td>0.006870</td>\n",
       "      <td>0.015000</td>\n",
       "      <td>1.044129e-07</td>\n",
       "      <td>0.000011</td>\n",
       "      <td>21654</td>\n",
       "    </tr>\n",
       "    <tr>\n",
       "      <th>15</th>\n",
       "      <td>x^3</td>\n",
       "      <td>10</td>\n",
       "      <td>0.001730</td>\n",
       "      <td>0.003750</td>\n",
       "      <td>2.610323e-08</td>\n",
       "      <td>0.001543</td>\n",
       "      <td>26431</td>\n",
       "    </tr>\n",
       "  </tbody>\n",
       "</table>\n",
       "</div>"
      ],
      "text/plain": [
       "   function   n  mean_err  upper_bound   lower_bound   max_gap  rounds\n",
       "0    exp(x)   2  0.026349     0.042445  1.562292e-02  0.000003    3089\n",
       "1    exp(x)   3  0.011699     0.018865  6.943520e-03  0.000004    5544\n",
       "2    exp(x)   5  0.004210     0.006791  2.499667e-03  0.000006   10054\n",
       "3    exp(x)  10  0.001055     0.001698  6.249168e-04  0.000319   13138\n",
       "4       x^2   2  0.125000     0.125011  1.249990e-01  0.000000       0\n",
       "5       x^2   3  0.055556     0.055560  5.555510e-02  0.000007       1\n",
       "6       x^2   5  0.020000     0.020002  1.999984e-02  0.000008       4\n",
       "7       x^2  10  0.005000     0.005000  4.999959e-03  0.000003       6\n",
       "8       x^2   2  0.125000     0.125011  1.249990e-01  0.000000       0\n",
       "9       x^2   3  0.055556     0.055560  5.555510e-02  0.000007       1\n",
       "10      x^2   5  0.020000     0.020002  1.999984e-02  0.000008       4\n",
       "11      x^2  10  0.005000     0.005000  4.999959e-03  0.000003       6\n",
       "12      x^3   2  0.044863     0.093750  6.525807e-07  0.000006    5775\n",
       "13      x^3   3  0.019462     0.041667  2.900359e-07  0.000008   11183\n",
       "14      x^3   5  0.006870     0.015000  1.044129e-07  0.000011   21654\n",
       "15      x^3  10  0.001730     0.003750  2.610323e-08  0.001543   26431"
      ]
     },
     "execution_count": 12,
     "metadata": {},
     "output_type": "execute_result"
    }
   ],
   "source": [
    "df = pd.DataFrame(errs)\n",
    "df"
   ]
  }
 ],
 "metadata": {
  "kernelspec": {
   "display_name": "Main",
   "language": "python",
   "name": "python3"
  },
  "language_info": {
   "codemirror_mode": {
    "name": "ipython",
    "version": 3
   },
   "file_extension": ".py",
   "mimetype": "text/x-python",
   "name": "python",
   "nbconvert_exporter": "python",
   "pygments_lexer": "ipython3",
   "version": "3.11.10"
  }
 },
 "nbformat": 4,
 "nbformat_minor": 2
}
