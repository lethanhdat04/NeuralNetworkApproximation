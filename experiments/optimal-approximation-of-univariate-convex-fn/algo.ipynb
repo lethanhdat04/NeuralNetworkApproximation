{
 "cells": [
  {
   "cell_type": "code",
   "metadata": {
    "vscode": {
     "languageId": "shellscript"
    },
    "ExecuteTime": {
     "end_time": "2025-02-06T23:22:22.884369Z",
     "start_time": "2025-02-06T23:22:22.868621Z"
    }
   },
   "source": [
    "cd ../.."
   ],
   "outputs": [
    {
     "name": "stdout",
     "output_type": "stream",
     "text": [
      "D:\\PyCharmProject\\nna_24-25_pham\n"
     ]
    }
   ],
   "execution_count": 1
  },
  {
   "cell_type": "code",
   "metadata": {
    "ExecuteTime": {
     "end_time": "2025-02-06T23:22:23.288410Z",
     "start_time": "2025-02-06T23:22:23.001572Z"
    }
   },
   "source": [
    "from utils.maths import *"
   ],
   "outputs": [],
   "execution_count": 2
  },
  {
   "cell_type": "code",
   "metadata": {
    "ExecuteTime": {
     "end_time": "2025-02-06T23:22:23.669339Z",
     "start_time": "2025-02-06T23:22:23.665826Z"
    }
   },
   "source": [
    "def f(x):\n",
    "    # fx = e^x\n",
    "    return np.exp(x)"
   ],
   "outputs": [],
   "execution_count": 3
  },
  {
   "cell_type": "code",
   "metadata": {
    "ExecuteTime": {
     "end_time": "2025-02-06T23:22:23.690708Z",
     "start_time": "2025-02-06T23:22:23.684833Z"
    }
   },
   "source": [
    "n = 5\n",
    "a, b = 0, 10\n",
    "step = 2e-5"
   ],
   "outputs": [],
   "execution_count": 4
  },
  {
   "cell_type": "code",
   "metadata": {
    "ExecuteTime": {
     "end_time": "2025-02-06T23:55:37.071802Z",
     "start_time": "2025-02-06T23:22:23.705264Z"
    }
   },
   "source": [
    "segments, errs = optimal_approx(n, f, a, b, step)"
   ],
   "outputs": [],
   "execution_count": 5
  },
  {
   "cell_type": "code",
   "metadata": {
    "ExecuteTime": {
     "end_time": "2025-02-06T23:55:37.130992Z",
     "start_time": "2025-02-06T23:55:37.120615Z"
    }
   },
   "source": [
    "for i, (segment, error) in enumerate(zip(segments, errs)):\n",
    "    print(f\"Segment {i + 1}: {segment}, Error: {error}\")"
   ],
   "outputs": [
    {
     "name": "stdout",
     "output_type": "stream",
     "text": [
      "Segment 1: (0.0, 6.685060000030693), Error: 226.7299089878235\n",
      "Segment 2: (6.685060000030693, 8.127560000021376), Error: 226.71757171899387\n",
      "Segment 3: (8.127560000021376, 8.960099999976755), Error: 226.75775321487544\n",
      "Segment 4: (8.960099999976755, 9.546739999941444), Error: 226.71349830002356\n",
      "Segment 5: (9.546739999941444, 10.0), Error: 226.76259948166853\n"
     ]
    }
   ],
   "execution_count": 6
  },
  {
   "cell_type": "code",
   "metadata": {
    "ExecuteTime": {
     "end_time": "2025-02-06T23:55:37.281203Z",
     "start_time": "2025-02-06T23:55:37.276547Z"
    }
   },
   "source": [],
   "outputs": [],
   "execution_count": null
  }
 ],
 "metadata": {
  "kernelspec": {
   "display_name": "nna",
   "language": "python",
   "name": "python3"
  },
  "language_info": {
   "codemirror_mode": {
    "name": "ipython",
    "version": 3
   },
   "file_extension": ".py",
   "mimetype": "text/x-python",
   "name": "python",
   "nbconvert_exporter": "python",
   "pygments_lexer": "ipython3",
   "version": "3.11.11"
  }
 },
 "nbformat": 4,
 "nbformat_minor": 2
}
